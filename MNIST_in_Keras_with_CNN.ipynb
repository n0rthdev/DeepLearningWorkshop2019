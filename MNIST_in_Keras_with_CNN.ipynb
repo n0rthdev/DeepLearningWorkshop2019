{
  "nbformat": 4,
  "nbformat_minor": 0,
  "metadata": {
    "colab": {
      "name": "MNIST in Keras with CNN",
      "version": "0.3.2",
      "provenance": [],
      "collapsed_sections": [],
      "toc_visible": true,
      "include_colab_link": true
    },
    "language_info": {
      "codemirror_mode": {
        "name": "ipython",
        "version": 3
      },
      "file_extension": ".py",
      "mimetype": "text/x-python",
      "name": "python",
      "nbconvert_exporter": "python",
      "pygments_lexer": "ipython3",
      "version": "3.5.1"
    },
    "kernelspec": {
      "name": "python3",
      "display_name": "Python 3"
    },
    "accelerator": "GPU"
  },
  "cells": [
    {
      "cell_type": "markdown",
      "metadata": {
        "id": "view-in-github",
        "colab_type": "text"
      },
      "source": [
        "<a href=\"https://colab.research.google.com/github/napster2202/DeepLearningWorkshop2019/blob/master/MNIST_in_Keras_with_CNN.ipynb\" target=\"_parent\"><img src=\"https://colab.research.google.com/assets/colab-badge.svg\" alt=\"Open In Colab\"/></a>"
      ]
    },
    {
      "metadata": {
        "id": "-uRxk07BYyD4",
        "colab_type": "code",
        "colab": {}
      },
      "cell_type": "code",
      "source": [
        "%matplotlib inline"
      ],
      "execution_count": 0,
      "outputs": []
    },
    {
      "metadata": {
        "id": "Nn1HQKiPYyD6",
        "colab_type": "text"
      },
      "cell_type": "markdown",
      "source": [
        "# Building a simple neural-network with Keras\n",
        "\n",
        "**Author: Xavier Snelgrove adapted by Martin Weber**\n",
        "\n",
        "This is a simple quick-start in performing digit recognition in a neural network in Keras, for a short tutorial at the University of Toronto. It is largely based on the `mnist_mlp.py` example from the Keras source.\n"
      ]
    },
    {
      "metadata": {
        "id": "lJC_jed8YyD8",
        "colab_type": "text"
      },
      "cell_type": "markdown",
      "source": [
        "## Time to build a neural network!\n",
        "First let's import some prerequisites"
      ]
    },
    {
      "metadata": {
        "id": "SPSv5iGTYyD9",
        "colab_type": "code",
        "outputId": "f051d158-71f7-4037-a377-f5272a56563a",
        "colab": {
          "base_uri": "https://localhost:8080/",
          "height": 34
        }
      },
      "cell_type": "code",
      "source": [
        "import numpy as np\n",
        "import matplotlib.pyplot as plt\n",
        "plt.rcParams['figure.figsize'] = (7,7) # Make the figures a bit bigger\n",
        "\n",
        "from keras.datasets import mnist\n",
        "from keras.models import Sequential\n",
        "from keras.layers.core import Dense, Dropout, Activation, Flatten\n",
        "from keras.layers import Conv2D, MaxPooling2D\n",
        "from keras.utils import np_utils\n",
        "from keras.preprocessing.image import ImageDataGenerator\n",
        "from keras import backend as K"
      ],
      "execution_count": 2,
      "outputs": [
        {
          "output_type": "stream",
          "text": [
            "Using TensorFlow backend.\n"
          ],
          "name": "stderr"
        }
      ]
    },
    {
      "metadata": {
        "id": "3xwe2znBYyEA",
        "colab_type": "text"
      },
      "cell_type": "markdown",
      "source": [
        "## Load training data"
      ]
    },
    {
      "metadata": {
        "id": "odSHixYbYyEA",
        "colab_type": "code",
        "outputId": "c10f6fed-0f0f-4353-ad15-0397ff5b9dc3",
        "colab": {
          "base_uri": "https://localhost:8080/",
          "height": 84
        }
      },
      "cell_type": "code",
      "source": [
        "nb_classes = 10\n",
        "\n",
        "# the data, shuffled and split between tran and test sets\n",
        "(X_train, y_train), (X_test, y_test) = mnist.load_data()\n",
        "print(\"X_train original shape\", X_train.shape)\n",
        "print(\"y_train original shape\", y_train.shape)\n",
        "\n",
        "# input image dimensions\n",
        "img_rows, img_cols = X_train.shape[1:]"
      ],
      "execution_count": 3,
      "outputs": [
        {
          "output_type": "stream",
          "text": [
            "Downloading data from https://s3.amazonaws.com/img-datasets/mnist.npz\n",
            "11493376/11490434 [==============================] - 0s 0us/step\n",
            "X_train original shape (60000, 28, 28)\n",
            "y_train original shape (60000,)\n"
          ],
          "name": "stdout"
        }
      ]
    },
    {
      "metadata": {
        "id": "89HRzVp-YyEF",
        "colab_type": "text"
      },
      "cell_type": "markdown",
      "source": [
        "Let's look at some examples of the training data"
      ]
    },
    {
      "metadata": {
        "id": "qn4Q0Vn_YyEG",
        "colab_type": "code",
        "outputId": "8a938a37-1534-4793-90aa-98acf8a10366",
        "colab": {
          "base_uri": "https://localhost:8080/",
          "height": 444
        }
      },
      "cell_type": "code",
      "source": [
        "for i in range(9):\n",
        "    plt.subplot(3,3,i+1)\n",
        "    plt.axis('off')\n",
        "    plt.imshow(X_train[i], cmap='gray', interpolation='none')\n",
        "    plt.title(\"Class {}\".format(y_train[i]))"
      ],
      "execution_count": 4,
      "outputs": [
        {
          "output_type": "display_data",
          "data": {
            "image/png": "[encoded data removed]",
            "text/plain": [
              "<Figure size 504x504 with 9 Axes>"
            ]
          },
          "metadata": {
            "tags": []
          }
        }
      ]
    },
    {
      "metadata": {
        "id": "nIVVuR3MYyEJ",
        "colab_type": "text"
      },
      "cell_type": "markdown",
      "source": [
        "## Format the data for training\n",
        "Our neural-network is going to take a single vector for each training example, so we need to reshape the input so that each 28x28 image becomes a single 784 dimensional vector. We'll also scale the inputs to be in the range [0-1] rather than [0-255]"
      ]
    },
    {
      "metadata": {
        "id": "lNN4lXZ-YyEK",
        "colab_type": "code",
        "outputId": "da1cf891-bed1-4312-b24e-13051bca1ffc",
        "colab": {
          "base_uri": "https://localhost:8080/",
          "height": 84
        }
      },
      "cell_type": "code",
      "source": [
        "X_train = X_train.astype('float32')\n",
        "X_test = X_test.astype('float32')\n",
        "X_train /= 255\n",
        "X_test /= 255\n",
        "print(\"Training matrix shape\", X_train.shape)\n",
        "print(\"Testing matrix shape\", X_test.shape)\n",
        "\n",
        "X_train_flat = X_train.reshape(60000, 784)\n",
        "X_test_flat = X_test.reshape(10000, 784)\n",
        "\n",
        "print(\"Flat Training matrix shape\", X_train_flat.shape)\n",
        "print(\"Flat Testing matrix shape\", X_test_flat.shape)"
      ],
      "execution_count": 5,
      "outputs": [
        {
          "output_type": "stream",
          "text": [
            "Training matrix shape (60000, 28, 28)\n",
            "Testing matrix shape (10000, 28, 28)\n",
            "Flat Training matrix shape (60000, 784)\n",
            "Flat Testing matrix shape (10000, 784)\n"
          ],
          "name": "stdout"
        }
      ]
    },
    {
      "metadata": {
        "id": "h6Uc6K5ZYyEN",
        "colab_type": "text"
      },
      "cell_type": "markdown",
      "source": [
        "Modify the target matrices to be in the one-hot format, i.e.\n",
        "\n",
        "```\n",
        "0 -> [1, 0, 0, 0, 0, 0, 0, 0, 0]\n",
        "1 -> [0, 1, 0, 0, 0, 0, 0, 0, 0]\n",
        "2 -> [0, 0, 1, 0, 0, 0, 0, 0, 0]\n",
        "etc.\n",
        "```"
      ]
    },
    {
      "metadata": {
        "id": "fqb3mwd1YyEO",
        "colab_type": "code",
        "colab": {}
      },
      "cell_type": "code",
      "source": [
        "Y_train = np_utils.to_categorical(y_train, nb_classes)\n",
        "Y_test = np_utils.to_categorical(y_test, nb_classes)"
      ],
      "execution_count": 0,
      "outputs": []
    },
    {
      "metadata": {
        "id": "xsusvmzwYyEQ",
        "colab_type": "text"
      },
      "cell_type": "markdown",
      "source": [
        "# Build the neural network\n",
        "Build the neural-network. Here we'll do a simple 3 layer fully connected network.\n",
        "<img src=\"https://github.com/wxs/keras-mnist-tutorial/blob/master/figure.png?raw=1\" />"
      ]
    },
    {
      "metadata": {
        "id": "RIRKD3P8nYF3",
        "colab_type": "code",
        "outputId": "84541b4a-7bee-4468-fb82-3bfc783b46f9",
        "colab": {
          "base_uri": "https://localhost:8080/",
          "height": 87
        }
      },
      "cell_type": "code",
      "source": [
        "model = Sequential()\n",
        "model.add(Dense(128, input_shape=(784,)))\n",
        "model.add(Activation('sigmoid')) # An \"activation\" is just a non-linear function applied to the output\n",
        "                              # of the layer above. Here, with a \"sigmoid\" function\n",
        "                           \n",
        "model.add(Dense(128))\n",
        "model.add(Activation('sigmoid'))\n",
        "model.add(Dense(nb_classes))\n",
        "model.add(Activation('softmax')) # This special \"softmax\" activation among other things,\n",
        "                                 # ensures the output is a valid probaility distribution, that is\n",
        "                                 # that its values are all non-negative and sum to 1."
      ],
      "execution_count": 7,
      "outputs": [
        {
          "output_type": "stream",
          "text": [
            "WARNING:tensorflow:From /usr/local/lib/python3.6/dist-packages/tensorflow/python/framework/op_def_library.py:263: colocate_with (from tensorflow.python.framework.ops) is deprecated and will be removed in a future version.\n",
            "Instructions for updating:\n",
            "Colocations handled automatically by placer.\n"
          ],
          "name": "stdout"
        }
      ]
    },
    {
      "metadata": {
        "id": "DmmpizTHYyER",
        "colab_type": "code",
        "colab": {}
      },
      "cell_type": "code",
      "source": [
        "# model = Sequential()\n",
        "# model.add(Dense(128, input_shape=(784,)))\n",
        "# model.add(Activation('relu')) # An \"activation\" is just a non-linear function applied to the output\n",
        "#                               # of the layer above. Here, with a \"rectified linear unit\",\n",
        "#                               # we clamp all values below 0 to 0.\n",
        "                           \n",
        "# model.add(Dropout(0.2))   # Dropout helps protect the model from memorizing or \"overfitting\" the training data\n",
        "# model.add(Dense(128))\n",
        "# model.add(Activation('relu'))\n",
        "# model.add(Dropout(0.2))\n",
        "# model.add(Dense(nb_classes))\n",
        "# model.add(Activation('softmax')) # This special \"softmax\" activation among other things,\n",
        "#                                  # ensures the output is a valid probaility distribution, that is\n",
        "#                                  # that its values are all non-negative and sum to 1."
      ],
      "execution_count": 0,
      "outputs": []
    },
    {
      "metadata": {
        "id": "fBDhmRN2YyET",
        "colab_type": "text"
      },
      "cell_type": "markdown",
      "source": [
        "## Compile the model\n",
        "Keras is built on top of Theano (and now TensorFlow as well), both packages that allow you to define a *computation graph* in Python, which they then compile and run efficiently on the CPU or GPU without the overhead of the Python interpreter.\n",
        "\n",
        "When compiing a model, Keras asks you to specify your **loss function** and your **optimizer**. The loss function we'll use here is called *categorical crossentropy*, and is a loss function well-suited to comparing two probability distributions.\n",
        "\n",
        "Here our predictions are probability distributions across the ten different digits (e.g. \"we're 80% confident this image is a 3, 10% sure it's an 8, 5% it's a 2, etc.\"), and the target is a probability distribution with 100% for the correct category, and 0 for everything else. The cross-entropy is a measure of how different your predicted distribution is from the target distribution. [More detail at Wikipedia](https://en.wikipedia.org/wiki/Cross_entropy)\n",
        "\n",
        "The optimizer helps determine how quickly the model learns, how resistent it is to getting \"stuck\" or \"blowing up\". We won't discuss this in too much detail, but \"adam\" is often a good choice (developed here at U of T)."
      ]
    },
    {
      "metadata": {
        "id": "KhQZaj4FYyEU",
        "colab_type": "code",
        "colab": {}
      },
      "cell_type": "code",
      "source": [
        "model.compile(loss='categorical_crossentropy', optimizer='adam', metrics=['accuracy'])"
      ],
      "execution_count": 0,
      "outputs": []
    },
    {
      "metadata": {
        "id": "GHnfz5sZYyEW",
        "colab_type": "text"
      },
      "cell_type": "markdown",
      "source": [
        "## Train the model!\n",
        "This is the fun part: you can feed the training data loaded in earlier into this model and it will learn to classify digits"
      ]
    },
    {
      "metadata": {
        "id": "XPR5fwtWYyEX",
        "colab_type": "code",
        "outputId": "97052791-dcd8-4bbd-cc9d-61b90273cf66",
        "colab": {
          "base_uri": "https://localhost:8080/",
          "height": 255
        }
      },
      "cell_type": "code",
      "source": [
        "model.fit(X_train_flat, Y_train,\n",
        "          batch_size=128, epochs=4, verbose=1,\n",
        "          validation_data=(X_test_flat, Y_test))"
      ],
      "execution_count": 10,
      "outputs": [
        {
          "output_type": "stream",
          "text": [
            "WARNING:tensorflow:From /usr/local/lib/python3.6/dist-packages/tensorflow/python/ops/math_ops.py:3066: to_int32 (from tensorflow.python.ops.math_ops) is deprecated and will be removed in a future version.\n",
            "Instructions for updating:\n",
            "Use tf.cast instead.\n",
            "Train on 60000 samples, validate on 10000 samples\n",
            "Epoch 1/4\n",
            "60000/60000 [==============================] - 4s 74us/step - loss: 0.7002 - acc: 0.8292 - val_loss: 0.2849 - val_acc: 0.9210\n",
            "Epoch 2/4\n",
            "60000/60000 [==============================] - 2s 30us/step - loss: 0.2459 - acc: 0.9287 - val_loss: 0.2151 - val_acc: 0.9367\n",
            "Epoch 3/4\n",
            "60000/60000 [==============================] - 2s 30us/step - loss: 0.1861 - acc: 0.9461 - val_loss: 0.1645 - val_acc: 0.9510\n",
            "Epoch 4/4\n",
            "60000/60000 [==============================] - 2s 29us/step - loss: 0.1495 - acc: 0.9567 - val_loss: 0.1369 - val_acc: 0.9584\n"
          ],
          "name": "stdout"
        },
        {
          "output_type": "execute_result",
          "data": {
            "text/plain": [
              "<keras.callbacks.History at 0x7f71556c2668>"
            ]
          },
          "metadata": {
            "tags": []
          },
          "execution_count": 10
        }
      ]
    },
    {
      "metadata": {
        "id": "r_Qf_SbKYyEa",
        "colab_type": "text"
      },
      "cell_type": "markdown",
      "source": [
        "## Finally, evaluate its performance"
      ]
    },
    {
      "metadata": {
        "id": "VvayvRAqYyEb",
        "colab_type": "code",
        "outputId": "5f04f2eb-bdc3-462e-9a7a-89859b71c3d9",
        "colab": {
          "base_uri": "https://localhost:8080/",
          "height": 50
        }
      },
      "cell_type": "code",
      "source": [
        "score = model.evaluate(X_test_flat, Y_test, verbose=0)\n",
        "print('Test score:', score[0])\n",
        "print('Test accuracy:', score[1])"
      ],
      "execution_count": 11,
      "outputs": [
        {
          "output_type": "stream",
          "text": [
            "Test score: 0.13694827918708324\n",
            "Test accuracy: 0.9584\n"
          ],
          "name": "stdout"
        }
      ]
    },
    {
      "metadata": {
        "id": "Hl93a8ByYyEe",
        "colab_type": "text"
      },
      "cell_type": "markdown",
      "source": [
        "### Inspecting the output\n",
        "\n",
        "It's always a good idea to inspect the output and make sure everything looks sane. Here we'll look at some examples it gets right, and some examples it gets wrong."
      ]
    },
    {
      "metadata": {
        "id": "d-dR8LkxYyEf",
        "colab_type": "code",
        "colab": {}
      },
      "cell_type": "code",
      "source": [
        "# The predict_classes function outputs the highest probability class\n",
        "# according to the trained classifier for each input example.\n",
        "predicted_classes = model.predict_classes(X_test_flat)\n",
        "\n",
        "# Check which items we got right / wrong\n",
        "correct_indices = np.nonzero(predicted_classes == y_test)[0]\n",
        "incorrect_indices = np.nonzero(predicted_classes != y_test)[0]"
      ],
      "execution_count": 0,
      "outputs": []
    },
    {
      "metadata": {
        "id": "qCeFFGEUYyEj",
        "colab_type": "code",
        "outputId": "19ec182c-a288-435a-f999-b7cb9e81f144",
        "colab": {
          "base_uri": "https://localhost:8080/",
          "height": 871
        }
      },
      "cell_type": "code",
      "source": [
        "plt.figure()\n",
        "for i, correct in enumerate(correct_indices[:9]):\n",
        "    plt.subplot(3,3,i+1)\n",
        "    plt.axis('off')\n",
        "    plt.imshow(X_test[correct], cmap='gray', interpolation='none')\n",
        "    plt.title(\"Predicted {}, Class {}\".format(predicted_classes[correct], y_test[correct]))\n",
        "    \n",
        "plt.figure()\n",
        "for i, incorrect in enumerate(incorrect_indices[:9]):\n",
        "    plt.subplot(3,3,i+1)\n",
        "    plt.axis('off')\n",
        "    plt.imshow(X_test[incorrect], cmap='gray', interpolation='none')\n",
        "    plt.title(\"Predicted {}, Class {}\".format(predicted_classes[incorrect], y_test[incorrect]))"
      ],
      "execution_count": 13,
      "outputs": [
        {
          "output_type": "display_data",
          "data": {
            "image/png": "[encoded data removed]",
            "text/plain": [
              "<Figure size 504x504 with 9 Axes>"
            ]
          },
          "metadata": {
            "tags": []
          }
        },
        {
          "output_type": "display_data",
          "data": {
            "image/png": "[encoded data removed]",
            "text/plain": [
              "<Figure size 504x504 with 9 Axes>"
            ]
          },
          "metadata": {
            "tags": []
          }
        }
      ]
    },
    {
      "metadata": {
        "id": "7RWpVF1LrpKR",
        "colab_type": "text"
      },
      "cell_type": "markdown",
      "source": [
        "##Convolutional Model"
      ]
    },
    {
      "metadata": {
        "id": "Q1IRn5yDr54j",
        "colab_type": "code",
        "colab": {}
      },
      "cell_type": "code",
      "source": [
        "if K.image_data_format() == 'channels_first':\n",
        "    X_train_colorchannels = X_train.reshape(X_train.shape[0], 1, img_rows, img_cols)\n",
        "    X_test_colorchannels = X_test.reshape(X_test.shape[0], 1, img_rows, img_cols)\n",
        "    input_shape = (1, img_rows, img_cols)\n",
        "else:\n",
        "    X_train_colorchannels = X_train.reshape(X_train.shape[0], img_rows, img_cols, 1)\n",
        "    X_test_colorchannels = X_test.reshape(X_test.shape[0], img_rows, img_cols, 1)\n",
        "    input_shape = (img_rows, img_cols, 1)"
      ],
      "execution_count": 0,
      "outputs": []
    },
    {
      "metadata": {
        "id": "BIzHzR0miMiE",
        "colab_type": "code",
        "colab": {
          "base_uri": "https://localhost:8080/",
          "height": 87
        },
        "outputId": "af30d705-7ead-4b1c-ae21-8e5ee832f6d2"
      },
      "cell_type": "code",
      "source": [
        "cnn = Sequential()\n",
        "cnn.add(Conv2D(32, kernel_size=(3, 3),\n",
        "                 activation='relu',\n",
        "                 input_shape=input_shape))\n",
        "cnn.add(Conv2D(64, (3, 3), activation='relu'))\n",
        "cnn.add(MaxPooling2D(pool_size=(2, 2)))\n",
        "cnn.add(Dropout(0.25))\n",
        "cnn.add(Flatten())\n",
        "cnn.add(Dense(128, activation='relu'))\n",
        "cnn.add(Dropout(0.5))\n",
        "cnn.add(Dense(nb_classes, activation='softmax'))"
      ],
      "execution_count": 15,
      "outputs": [
        {
          "output_type": "stream",
          "text": [
            "WARNING:tensorflow:From /usr/local/lib/python3.6/dist-packages/keras/backend/tensorflow_backend.py:3445: calling dropout (from tensorflow.python.ops.nn_ops) with keep_prob is deprecated and will be removed in a future version.\n",
            "Instructions for updating:\n",
            "Please use `rate` instead of `keep_prob`. Rate should be set to `rate = 1 - keep_prob`.\n"
          ],
          "name": "stdout"
        }
      ]
    },
    {
      "metadata": {
        "id": "L2lOnlIhuY0f",
        "colab_type": "code",
        "colab": {}
      },
      "cell_type": "code",
      "source": [
        "cnn.compile(loss='categorical_crossentropy', optimizer='adam', metrics=['accuracy'])"
      ],
      "execution_count": 0,
      "outputs": []
    },
    {
      "metadata": {
        "id": "ASGUGxNiuhZG",
        "colab_type": "code",
        "colab": {
          "base_uri": "https://localhost:8080/",
          "height": 185
        },
        "outputId": "f37f7af9-6bb5-4099-eae9-2af9e5f2937d"
      },
      "cell_type": "code",
      "source": [
        "cnn.fit(X_train_colorchannels, Y_train,\n",
        "          batch_size=128, epochs=4, verbose=1,\n",
        "          validation_data=(X_test_colorchannels, Y_test))"
      ],
      "execution_count": 17,
      "outputs": [
        {
          "output_type": "stream",
          "text": [
            "Train on 60000 samples, validate on 10000 samples\n",
            "Epoch 1/4\n",
            "60000/60000 [==============================] - 7s 122us/step - loss: 0.2327 - acc: 0.9294 - val_loss: 0.0526 - val_acc: 0.9834\n",
            "Epoch 2/4\n",
            "60000/60000 [==============================] - 4s 71us/step - loss: 0.0837 - acc: 0.9750 - val_loss: 0.0411 - val_acc: 0.9870\n",
            "Epoch 3/4\n",
            "60000/60000 [==============================] - 4s 74us/step - loss: 0.0616 - acc: 0.9815 - val_loss: 0.0366 - val_acc: 0.9868\n",
            "Epoch 4/4\n",
            "60000/60000 [==============================] - 4s 74us/step - loss: 0.0519 - acc: 0.9838 - val_loss: 0.0305 - val_acc: 0.9897\n"
          ],
          "name": "stdout"
        },
        {
          "output_type": "execute_result",
          "data": {
            "text/plain": [
              "<keras.callbacks.History at 0x7f7140eedfd0>"
            ]
          },
          "metadata": {
            "tags": []
          },
          "execution_count": 17
        }
      ]
    },
    {
      "metadata": {
        "id": "bVp9bugblvaF",
        "colab_type": "code",
        "colab": {}
      },
      "cell_type": "code",
      "source": [
        "datagen = ImageDataGenerator(\n",
        "#     featurewise_center=True,\n",
        "#     featurewise_std_normalization=True,\n",
        "#     rotation_range=20,\n",
        "    width_shift_range=0.2,\n",
        "    height_shift_range=0.2,\n",
        "#     horizontal_flip=True\n",
        ")\n",
        "\n",
        "datagen.fit(X_train_colorchannels)"
      ],
      "execution_count": 0,
      "outputs": []
    },
    {
      "metadata": {
        "id": "7QCdWnDblx-D",
        "colab_type": "code",
        "outputId": "5c5d6bd1-f89a-4353-c801-045bc0ab77ab",
        "colab": {
          "base_uri": "https://localhost:8080/",
          "height": 101
        }
      },
      "cell_type": "code",
      "source": [
        "cnn.fit_generator(datagen.flow(X_train_colorchannels, Y_train, batch_size=128),\n",
        "                    steps_per_epoch=len(X_train_colorchannels) / 128,\n",
        "                    epochs=2, verbose=1,\n",
        "                    validation_data=(X_test_colorchannels, Y_test))"
      ],
      "execution_count": 19,
      "outputs": [
        {
          "output_type": "stream",
          "text": [
            "Epoch 1/2\n",
            "469/468 [==============================] - 14s 29ms/step - loss: 0.4594 - acc: 0.8585 - val_loss: 0.0540 - val_acc: 0.9814\n",
            "Epoch 2/2\n",
            "469/468 [==============================] - 12s 25ms/step - loss: 0.2140 - acc: 0.9353 - val_loss: 0.0429 - val_acc: 0.9862\n"
          ],
          "name": "stdout"
        },
        {
          "output_type": "execute_result",
          "data": {
            "text/plain": [
              "<keras.callbacks.History at 0x7f7156004be0>"
            ]
          },
          "metadata": {
            "tags": []
          },
          "execution_count": 19
        }
      ]
    },
    {
      "metadata": {
        "id": "i2CXgXqwt579",
        "colab_type": "code",
        "outputId": "f41a44d6-93b7-4b4a-f91c-c0b6b143b002",
        "colab": {
          "base_uri": "https://localhost:8080/",
          "height": 50
        }
      },
      "cell_type": "code",
      "source": [
        "score = cnn.evaluate(X_test_colorchannels, Y_test, verbose=0)\n",
        "print('Test score:', score[0])\n",
        "print('Test accuracy:', score[1])"
      ],
      "execution_count": 20,
      "outputs": [
        {
          "output_type": "stream",
          "text": [
            "Test score: 0.04292628386025317\n",
            "Test accuracy: 0.9862\n"
          ],
          "name": "stdout"
        }
      ]
    },
    {
      "metadata": {
        "id": "cL-YxASht7iB",
        "colab_type": "code",
        "colab": {}
      },
      "cell_type": "code",
      "source": [
        "# The predict_classes function outputs the highest probability class\n",
        "# according to the trained classifier for each input example.\n",
        "predicted_classes = cnn.predict_classes(X_test_colorchannels)\n",
        "\n",
        "# Check which items we got right / wrong\n",
        "correct_indices = np.nonzero(predicted_classes == y_test)[0]\n",
        "incorrect_indices = np.nonzero(predicted_classes != y_test)[0]"
      ],
      "execution_count": 0,
      "outputs": []
    },
    {
      "metadata": {
        "id": "wbZSjWFHt9oO",
        "colab_type": "code",
        "outputId": "e7984b92-db38-4470-a544-25af02fd6e92",
        "colab": {
          "base_uri": "https://localhost:8080/",
          "height": 871
        }
      },
      "cell_type": "code",
      "source": [
        "plt.figure()\n",
        "\n",
        "for i, correct in enumerate(correct_indices[:9]):\n",
        "    plt.subplot(3,3,i+1)\n",
        "    plt.axis('off')\n",
        "    plt.imshow(X_test[correct], cmap='gray', interpolation='none')\n",
        "    plt.title(\"Predicted {}, Class {}\".format(predicted_classes[correct], y_test[correct]))\n",
        "    \n",
        "plt.figure()\n",
        "for i, incorrect in enumerate(incorrect_indices[:9]):\n",
        "    plt.subplot(3,3,i+1)\n",
        "    plt.axis('off')\n",
        "    plt.imshow(X_test[incorrect], cmap='gray', interpolation='none')\n",
        "    plt.title(\"Predicted {}, Class {}\".format(predicted_classes[incorrect], y_test[incorrect]))"
      ],
      "execution_count": 22,
      "outputs": [
        {
          "output_type": "display_data",
          "data": {
            "image/png": "[encoded data removed]",
            "text/plain": [
              "<Figure size 504x504 with 9 Axes>"
            ]
          },
          "metadata": {
            "tags": []
          }
        },
        {
          "output_type": "display_data",
          "data": {
            "image/png": "[encoded data removed]",
            "text/plain": [
              "<Figure size 504x504 with 9 Axes>"
            ]
          },
          "metadata": {
            "tags": []
          }
        }
      ]
    },
    {
      "metadata": {
        "id": "jg9_DRcTYyEn",
        "colab_type": "text"
      },
      "cell_type": "markdown",
      "source": [
        "# That's all!"
      ]
    },
    {
      "metadata": {
        "id": "hj31NMbNYyEo",
        "colab_type": "text"
      },
      "cell_type": "markdown",
      "source": [
        "There are lots of other great examples at the Keras homepage at http://keras.io and in the source code at https://github.com/fchollet/keras\n",
        "\n",
        "This tutorial is an adoption of https://github.com/wxs/keras-mnist-tutorial"
      ]
    }
  ]
}